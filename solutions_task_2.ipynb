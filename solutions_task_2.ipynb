{
  "nbformat": 4,
  "nbformat_minor": 0,
  "metadata": {
    "colab": {
      "provenance": [],
      "authorship_tag": "ABX9TyPSuTlSLVJW6NXU2wmKqLQQ",
      "include_colab_link": true
    },
    "kernelspec": {
      "name": "python3",
      "display_name": "Python 3"
    },
    "language_info": {
      "name": "python"
    }
  },
  "cells": [
    {
      "cell_type": "markdown",
      "metadata": {
        "id": "view-in-github",
        "colab_type": "text"
      },
      "source": [
        "<a href=\"https://colab.research.google.com/github/Qlassik-Mason/VirtualAssistance/blob/master/solutions_task_2.ipynb\" target=\"_parent\"><img src=\"https://colab.research.google.com/assets/colab-badge.svg\" alt=\"Open In Colab\"/></a>"
      ]
    },
    {
      "cell_type": "code",
      "source": [
        "import os\n",
        "import shutil\n",
        "import matplotlib.pyplot as plt\n",
        "from distutils.file_util import copy_file\n",
        "\n",
        "from google.colab import drive\n",
        "drive.mount('/content/drive/')\n",
        "\n",
        "# Create output folders\n",
        "input_folder='/content/drive/MyDrive/mask_images/masks'\n",
        "output_human_folder  = '/content/drive/MyDrive/mask_images/Human'\n",
        "output_background_folder = '/content/drive/MyDrive/mask_images/Background'\n",
        "\n",
        "os.makedirs(output_human_folder, exist_ok=True)\n",
        "os.makedirs(output_background_folder, exist_ok=True)\n",
        "\n",
        "# List all files in the input folder\n",
        "#os.chdir(input_folder)\n",
        "#img = plt.imread('1803251003-00000004_00001.png')\n",
        "#plt.imshow(img)\n",
        "files = os.listdir(input_folder)\n",
        "\n",
        "for file_name in files:\n",
        "        # Check if the file is a PNG and if the last 5 letters of the filename end with '1' or '0'\n",
        "        if file_name.lower().endswith('.png'):\n",
        "            if file_name[-5:] == '1.png':\n",
        "                src_path = os.path.join(input_folder, file_name)\n",
        "                dst_path = os.path.join(output_human_folder, file_name)\n",
        "                shutil.copyfile(src_path, dst_path)\n",
        "            elif file_name[-5:] == '0.png':\n",
        "                src_path = os.path.join(input_folder, file_name)\n",
        "                dst_path = os.path.join(output_background_folder, file_name)\n",
        "                shutil.copyfile(src_path, dst_path)\n",
        "\n",
        "\n"
      ],
      "metadata": {
        "colab": {
          "base_uri": "https://localhost:8080/"
        },
        "id": "COKAkCDH9D4s",
        "outputId": "8e806550-f0ed-4888-eea5-8ef5eb6a6eaa"
      },
      "execution_count": null,
      "outputs": [
        {
          "output_type": "stream",
          "name": "stdout",
          "text": [
            "Drive already mounted at /content/drive/; to attempt to forcibly remount, call drive.mount(\"/content/drive/\", force_remount=True).\n"
          ]
        }
      ]
    }
  ]
}