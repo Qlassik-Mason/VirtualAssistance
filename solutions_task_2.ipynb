{
  "nbformat": 4,
  "nbformat_minor": 0,
  "metadata": {
    "colab": {
      "provenance": [],
      "authorship_tag": "ABX9TyOO3dSJovlQNkL8geCSRKyx",
      "include_colab_link": true
    },
    "kernelspec": {
      "name": "python3",
      "display_name": "Python 3"
    },
    "language_info": {
      "name": "python"
    }
  },
  "cells": [
    {
      "cell_type": "markdown",
      "metadata": {
        "id": "view-in-github",
        "colab_type": "text"
      },
      "source": [
        "<a href=\"https://colab.research.google.com/github/Qlassik-Mason/VirtualAssistance/blob/master/solutions_task_2.ipynb\" target=\"_parent\"><img src=\"https://colab.research.google.com/assets/colab-badge.svg\" alt=\"Open In Colab\"/></a>"
      ]
    },
    {
      "cell_type": "code",
      "source": [
        "import os\n",
        "import pandas as pd\n",
        "\n",
        "from google.colab import drive\n",
        "drive.mount('/content/drive/')\n",
        "\n",
        "csv_file = '/content/drive/MyDrive/mask_images/instance_mask_annotations.csv/'\n",
        "output_background_csv = '/content/drive/MyDrive/mask-images/background_masks.csv'\n",
        "output_human_csv = '/content/drive/MyDrive/mask-images/human_masks.csv'\n",
        "output_folder = '/content/drive/MyDrive/mask-images/Seperate-Mask'\n",
        "\n",
        "def separate_csv(csv_file, output_folder):\n",
        "    # Read CSV file into a DataFrame\n",
        "    df = pd.read_csv(csv_file)\n",
        "\n",
        "    # Separate entries based on class_name\n",
        "    humans_df = df[df['class_name'] == 'Human']\n",
        "    backgrounds_df = df[df['class_name'] == 'Background']\n",
        "\n",
        "    # Create output folders\n",
        "    human_output_folder = os.path.join(output_folder, 'human_csv')\n",
        "    background_output_folder = os.path.join(output_folder, 'background_csv')\n",
        "\n",
        "    os.makedirs(human_output_folder, exist_ok=True)\n",
        "    os.makedirs(background_output_folder, exist_ok=True)\n",
        "\n",
        "    # Write separate CSV files\n",
        "    human_output_csv = os.path.join(human_output_folder, 'human_masks.csv')\n",
        "    background_output_csv = os.path.join(background_output_folder, 'background_masks.csv')\n",
        "\n",
        "    humans_df.to_csv(human_output_csv, index=False)\n",
        "    backgrounds_df.to_csv(background_output_csv, index=False)\n",
        "\n",
        "    # Separate entries into new CSV files\n",
        "    separate_csv(csv_file, output_folder)\n",
        "\n",
        "\n",
        "\n",
        "\n",
        "\n"
      ],
      "metadata": {
        "colab": {
          "base_uri": "https://localhost:8080/"
        },
        "id": "qQUY5ZIy68Xe",
        "outputId": "70f14cd6-2a0b-45bd-cf00-c8d8e2cb9986"
      },
      "execution_count": 20,
      "outputs": [
        {
          "output_type": "stream",
          "name": "stdout",
          "text": [
            "Drive already mounted at /content/drive/; to attempt to forcibly remount, call drive.mount(\"/content/drive/\", force_remount=True).\n"
          ]
        }
      ]
    }
  ]
}