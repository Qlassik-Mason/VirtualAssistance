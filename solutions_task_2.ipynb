{
  "nbformat": 4,
  "nbformat_minor": 0,
  "metadata": {
    "colab": {
      "provenance": [],
      "authorship_tag": "ABX9TyM6jMA4oP5EscFcLgqeK++o",
      "include_colab_link": true
    },
    "kernelspec": {
      "name": "python3",
      "display_name": "Python 3"
    },
    "language_info": {
      "name": "python"
    }
  },
  "cells": [
    {
      "cell_type": "markdown",
      "metadata": {
        "id": "view-in-github",
        "colab_type": "text"
      },
      "source": [
        "<a href=\"https://colab.research.google.com/github/Qlassik-Mason/VirtualAssistance/blob/master/solutions_task_2.ipynb\" target=\"_parent\"><img src=\"https://colab.research.google.com/assets/colab-badge.svg\" alt=\"Open In Colab\"/></a>"
      ]
    },
    {
      "cell_type": "code",
      "execution_count": 7,
      "metadata": {
        "colab": {
          "base_uri": "https://localhost:8080/",
          "height": 802
        },
        "id": "jRT_dD8Ogd3h",
        "outputId": "04ccbb52-517d-4dc1-c379-76ba36afa39f"
      },
      "outputs": [
        {
          "output_type": "stream",
          "name": "stdout",
          "text": [
            "Drive already mounted at /content/drive/; to attempt to forcibly remount, call drive.mount(\"/content/drive/\", force_remount=True).\n"
          ]
        },
        {
          "output_type": "display_data",
          "data": {
            "text/plain": [
              "<PIL.Image.Image image mode=L size=1038x750>"
            ],
            "image/png": "[encoded data removed]"
          },
          "metadata": {}
        },
        {
          "output_type": "execute_result",
          "data": {
            "text/plain": [
              "True"
            ]
          },
          "metadata": {},
          "execution_count": 7
        }
      ],
      "source": [
        "import cv2\n",
        "from google.colab.patches import cv2_imshow\n",
        "import numpy as np\n",
        "import matplotlib.pyplot as plt\n",
        "\n",
        "\n",
        "\n",
        "# Mount Google drive to be able to access the files located on it\n",
        "from google.colab import drive\n",
        "drive.mount('/content/drive/')\n",
        "\n",
        "data_img ='/content/drive/MyDrive/Image-segmentation/beach-and-boats.jpeg'\n",
        "\n",
        "img = cv2.imread(data_img)\n",
        "\n",
        "gray = cv2.cvtColor(img,cv2.COLOR_BGR2GRAY)\n",
        "_ , tresh = cv2.threshold(gray,np.mean(gray), 255, cv2.THRESH_BINARY_INV   )\n",
        "\n",
        "\n",
        "\n",
        "# GET CONTOURS\n",
        "\n",
        "contours , hierarchy = cv2.findContours(tresh, cv2.RETR_LIST, cv2.CHAIN_APPROX_SIMPLE)\n",
        "\n",
        "#print(len(contours))\n",
        "\n",
        "#  get the bigger area\n",
        "\n",
        "cnt = sorted(contours, key=cv2.contourArea)[-1]\n",
        "\n",
        "\n",
        "mask = np.zeros( (750, 1038), dtype=\"uint8\" )\n",
        "\n",
        "maskedRed = cv2.drawContours(mask,[cnt] , -1 , (0 , 0 , 255), -1)\n",
        "maskedFinal = cv2.drawContours(mask,[cnt] , -1 , (255 , 255 , 255), -1)\n",
        "\n",
        "finalImage = cv2.bitwise_and(img, img, mask=maskedFinal)\n",
        "\n",
        "#cv2_imshow(\"Original\", img)\n",
        "cv2_imshow(maskedFinal)\n",
        "#plt.imshow(img)\n",
        "#plt.show()\n",
        "#plt.imshow(maskedFinal)\n",
        "#plt.show()\n",
        "cv2.imwrite(\"maskedFinal.jpg\",maskedFinal)\n",
        "#cv2.imwrite(\"finalImage.jpg\",finalImage)\n",
        "\n",
        "\n",
        "\n",
        "\n",
        "\n"
      ]
    }
  ]
}