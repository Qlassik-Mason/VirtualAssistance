{
  "nbformat": 4,
  "nbformat_minor": 0,
  "metadata": {
    "colab": {
      "provenance": [],
      "authorship_tag": "ABX9TyORNuqzCaufdVLQMXJVnL+U",
      "include_colab_link": true
    },
    "kernelspec": {
      "name": "python3",
      "display_name": "Python 3"
    },
    "language_info": {
      "name": "python"
    }
  },
  "cells": [
    {
      "cell_type": "markdown",
      "metadata": {
        "id": "view-in-github",
        "colab_type": "text"
      },
      "source": [
        "<a href=\"https://colab.research.google.com/github/Qlassik-Mason/VirtualAssistance/blob/master/solutions_task_2.ipynb\" target=\"_parent\"><img src=\"https://colab.research.google.com/assets/colab-badge.svg\" alt=\"Open In Colab\"/></a>"
      ]
    },
    {
      "cell_type": "code",
      "source": [
        "import os\n",
        "import pandas as pd\n",
        "\n",
        "from google.colab import drive\n",
        "drive.mount('/content/drive/')\n",
        "\n",
        "csv_file = '/content/drive/MyDrive/mask_images/instance_mask_annotations.csv'\n",
        "#output_background_csv = '/content/drive/MyDrive/mask-images/background_masks.csv'\n",
        "#output_human_csv = '/content/drive/MyDrive/mask-images/human_masks.csv'\n",
        "output_folder = '/content/drive/MyDrive/mask-images/'\n",
        "\n",
        "\n",
        "\n",
        "# Read CSV file into a DataFrame\n",
        "df = pd.read_csv(csv_file)\n",
        "print(df.head())\n",
        "\n",
        "# Separate entries based on class_name\n",
        "humans_df = df[df['class_name'] == 'Human']\n",
        "backgrounds_df = df[df['class_name'] == 'Background']\n",
        "\n",
        "# Create output folders\n",
        "human_output_folder = os.path.join(output_folder, 'human_csv')\n",
        "background_output_folder = os.path.join(output_folder, 'background_csv')\n",
        "\n",
        "os.makedirs(human_output_folder, exist_ok=True)\n",
        "os.makedirs(background_output_folder, exist_ok=True)\n",
        "\n",
        "# Write separate CSV files\n",
        "human_output_csv = os.path.join(human_output_folder, 'human_masks.csv')\n",
        "background_output_csv = os.path.join(background_output_folder, 'background_masks.csv')\n",
        "\n",
        "humans_df.to_csv(human_output_csv, index=False)\n",
        "backgrounds_df.to_csv(background_output_csv, index=False)\n",
        "\n",
        "\n",
        ""
      ],
      "metadata": {
        "colab": {
          "base_uri": "https://localhost:8080/"
        },
        "id": "WuP4ctJMrMgJ",
        "outputId": "a9148038-a6df-4b6a-f288-c80ad9c51f6b"
      },
      "execution_count": 34,
      "outputs": [
        {
          "output_type": "stream",
          "name": "stdout",
          "text": [
            "Drive already mounted at /content/drive/; to attempt to forcibly remount, call drive.mount(\"/content/drive/\", force_remount=True).\n",
            "              image_id                    mask_id  class_name\n",
            "0  1803242321-00000298  1803242321-00000298_00000       Human\n",
            "1  1803242321-00000298  1803242321-00000298_00001  Background\n",
            "2  1803241914-00000249  1803241914-00000249_00000       Human\n",
            "3  1803241914-00000249  1803241914-00000249_00001  Background\n",
            "4  1803250047-00000059  1803250047-00000059_00000       Human\n"
          ]
        }
      ]
    },
    {
      "cell_type": "code",
      "source": [
        "import os\n",
        "import shutil\n",
        "import matplotlib.pyplot as plt\n",
        "from distutils.file_util import copy_file\n",
        "\n",
        "from google.colab import drive\n",
        "drive.mount('/content/drive/')\n",
        "\n",
        "# Create output folders\n",
        "input_folder='/content/drive/MyDrive/mask_images/masks'\n",
        "output_human_folder  = '/content/drive/MyDrive/mask_images/Human'\n",
        "output_background_folder = '/content/drive/MyDrive/mask_images/Background'\n",
        "\n",
        "os.makedirs(output_human_folder, exist_ok=True)\n",
        "os.makedirs(output_background_folder, exist_ok=True)\n",
        "\n",
        "# List all files in the input folder\n",
        "#os.chdir(input_folder)\n",
        "#img = plt.imread('1803251003-00000004_00001.png')\n",
        "#plt.imshow(img)\n",
        "files = os.listdir(input_folder)\n",
        "\n",
        "for file_name in files:\n",
        "        # Check if the file is a PNG and if the last 5 letters of the filename end with '1' or '0'\n",
        "        if file_name.lower().endswith('.png'):\n",
        "            if file_name[-5:] == '1.png':\n",
        "                src_path = os.path.join(input_folder, file_name)\n",
        "                dst_path = os.path.join(output_human_folder, file_name)\n",
        "                shutil.copyfile(src_path, dst_path)\n",
        "            elif file_name[-5:] == '0.png':\n",
        "                src_path = os.path.join(input_folder, file_name)\n",
        "                dst_path = os.path.join(output_background_folder, file_name)\n",
        "                shutil.copyfile(src_path, dst_path)\n",
        "\n",
        "\n"
      ],
      "metadata": {
        "colab": {
          "base_uri": "https://localhost:8080/"
        },
        "id": "COKAkCDH9D4s",
        "outputId": "8e806550-f0ed-4888-eea5-8ef5eb6a6eaa"
      },
      "execution_count": null,
      "outputs": [
        {
          "output_type": "stream",
          "name": "stdout",
          "text": [
            "Drive already mounted at /content/drive/; to attempt to forcibly remount, call drive.mount(\"/content/drive/\", force_remount=True).\n"
          ]
        }
      ]
    }
  ]
}